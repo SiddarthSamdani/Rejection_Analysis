{
 "cells": [
  {
   "cell_type": "code",
   "execution_count": 18,
   "metadata": {},
   "outputs": [
    {
     "name": "stderr",
     "output_type": "stream",
     "text": [
      "[nltk_data] Downloading package punkt to\n",
      "[nltk_data]     C:\\Users\\Siddarth\\AppData\\Roaming\\nltk_data...\n",
      "[nltk_data]   Package punkt is already up-to-date!\n",
      "[nltk_data] Downloading package stopwords to\n",
      "[nltk_data]     C:\\Users\\Siddarth\\AppData\\Roaming\\nltk_data...\n",
      "[nltk_data]   Unzipping corpora\\stopwords.zip.\n"
     ]
    }
   ],
   "source": [
    "import pandas as pd\n",
    "import numpy as np\n",
    "import matplotlib.pyplot as plt\n",
    "import seaborn as sns\n",
    "import re\n",
    "from nltk.corpus import stopwords\n",
    "from collections import Counter\n",
    "import nltk\n",
    "# nltk.download('punkt')\n",
    "# nltk.download('stopwords')\n",
    "%matplotlib inline\n",
    "sns.set(style='whitegrid', palette='muted', font_scale=1.3)"
   ]
  },
  {
   "cell_type": "code",
   "execution_count": 16,
   "metadata": {},
   "outputs": [
    {
     "data": {
      "text/html": [
       "<div>\n",
       "<style scoped>\n",
       "    .dataframe tbody tr th:only-of-type {\n",
       "        vertical-align: middle;\n",
       "    }\n",
       "\n",
       "    .dataframe tbody tr th {\n",
       "        vertical-align: top;\n",
       "    }\n",
       "\n",
       "    .dataframe thead th {\n",
       "        text-align: right;\n",
       "    }\n",
       "</style>\n",
       "<table border=\"1\" class=\"dataframe\">\n",
       "  <thead>\n",
       "    <tr style=\"text-align: right;\">\n",
       "      <th></th>\n",
       "      <th>Date</th>\n",
       "      <th>Time</th>\n",
       "      <th>Day</th>\n",
       "      <th>Hour</th>\n",
       "      <th>Subject</th>\n",
       "      <th>Text</th>\n",
       "    </tr>\n",
       "  </thead>\n",
       "  <tbody>\n",
       "    <tr>\n",
       "      <th>0</th>\n",
       "      <td>2018-07-12 12:31:08</td>\n",
       "      <td>12:31:08</td>\n",
       "      <td>Thurs</td>\n",
       "      <td>12</td>\n",
       "      <td>Your IBM Application</td>\n",
       "      <td>Ref: 110127BR - 2018 Data Scientist Internship...</td>\n",
       "    </tr>\n",
       "    <tr>\n",
       "      <th>1</th>\n",
       "      <td>2018-06-12 16:30:28</td>\n",
       "      <td>16:30:28</td>\n",
       "      <td>Tues</td>\n",
       "      <td>16</td>\n",
       "      <td>Thank you from Workday!</td>\n",
       "      <td>&lt;!doctype html&gt;&lt;html xmlns:o=3D\"urn:schemas-mi...</td>\n",
       "    </tr>\n",
       "    <tr>\n",
       "      <th>2</th>\n",
       "      <td>2018-05-17 08:43:38</td>\n",
       "      <td>08:43:38</td>\n",
       "      <td>Thurs</td>\n",
       "      <td>8</td>\n",
       "      <td>An Update Regarding Your Visa Job Application</td>\n",
       "      <td>\\r\\nDear Conor,\\r\\nThank you for giving us the...</td>\n",
       "    </tr>\n",
       "    <tr>\n",
       "      <th>3</th>\n",
       "      <td>2018-05-01 15:21:05</td>\n",
       "      <td>15:21:05</td>\n",
       "      <td>Tues</td>\n",
       "      <td>15</td>\n",
       "      <td>Thank you for your interest in Zynga for Inter...</td>\n",
       "      <td>&lt;html&gt;&lt;head&gt;\\r\\n&lt;meta http-equiv=3DContent-Typ...</td>\n",
       "    </tr>\n",
       "    <tr>\n",
       "      <th>4</th>\n",
       "      <td>2018-04-26 14:49:02</td>\n",
       "      <td>14:49:02</td>\n",
       "      <td>Thurs</td>\n",
       "      <td>14</td>\n",
       "      <td>Your Application with Cambia Health Solutions</td>\n",
       "      <td>Dear Conor,\\r\\n=C2=A0\\r\\nThank you for the int...</td>\n",
       "    </tr>\n",
       "  </tbody>\n",
       "</table>\n",
       "</div>"
      ],
      "text/plain": [
       "                  Date      Time    Day  Hour  \\\n",
       "0  2018-07-12 12:31:08  12:31:08  Thurs    12   \n",
       "1  2018-06-12 16:30:28  16:30:28   Tues    16   \n",
       "2  2018-05-17 08:43:38  08:43:38  Thurs     8   \n",
       "3  2018-05-01 15:21:05  15:21:05   Tues    15   \n",
       "4  2018-04-26 14:49:02  14:49:02  Thurs    14   \n",
       "\n",
       "                                             Subject  \\\n",
       "0                               Your IBM Application   \n",
       "1                            Thank you from Workday!   \n",
       "2      An Update Regarding Your Visa Job Application   \n",
       "3  Thank you for your interest in Zynga for Inter...   \n",
       "4      Your Application with Cambia Health Solutions   \n",
       "\n",
       "                                                Text  \n",
       "0  Ref: 110127BR - 2018 Data Scientist Internship...  \n",
       "1  <!doctype html><html xmlns:o=3D\"urn:schemas-mi...  \n",
       "2  \\r\\nDear Conor,\\r\\nThank you for giving us the...  \n",
       "3  <html><head>\\r\\n<meta http-equiv=3DContent-Typ...  \n",
       "4  Dear Conor,\\r\\n=C2=A0\\r\\nThank you for the int...  "
      ]
     },
     "execution_count": 16,
     "metadata": {},
     "output_type": "execute_result"
    }
   ],
   "source": [
    "# Read data\n",
    "df = pd.read_csv('rejections.csv')\n",
    "df.head()"
   ]
  },
  {
   "cell_type": "code",
   "execution_count": 3,
   "metadata": {},
   "outputs": [
    {
     "name": "stdout",
     "output_type": "stream",
     "text": [
      "<class 'pandas.core.frame.DataFrame'>\n",
      "RangeIndex: 86 entries, 0 to 85\n",
      "Data columns (total 6 columns):\n",
      "Date       86 non-null object\n",
      "Time       86 non-null object\n",
      "Day        86 non-null object\n",
      "Hour       86 non-null int64\n",
      "Subject    86 non-null object\n",
      "Text       86 non-null object\n",
      "dtypes: int64(1), object(5)\n",
      "memory usage: 4.1+ KB\n"
     ]
    }
   ],
   "source": [
    "# Data overview\n",
    "df.info()"
   ]
  },
  {
   "cell_type": "code",
   "execution_count": 4,
   "metadata": {},
   "outputs": [
    {
     "data": {
      "text/plain": [
       "Your Uber Application                                                                                           2\n",
       "BlackRock | We Wish You Success                                                                                 2\n",
       "Thanks for your Application!                                                                                    2\n",
       "Update - Data Analytics Intern - Undergraduate & Masters Degrees,\\r\\n 1765077                                   2\n",
       "Thank you for your interest                                                                                     2\n",
       "Illumina: Status of your application                                                                            2\n",
       "Your application to Software Engineer, Intern 2018 (San Francisco)\\r\\n at Airbnb                                2\n",
       "Update on VMware Role R04960 Intern- Data Science                                                               1\n",
       "Your application for the Data Team Intern position at Factual                                                   1\n",
       "Thank you for your interest in Zynga for Intern/Co-op Software\\r\\n Engineer - Current Students (Summer 2018)    1\n",
       "Your Zocdoc Application                                                                                         1\n",
       "b'Thank you for your interest in Intel \\xe2\\x80\\x93 update on your job application'                             1\n",
       "Important information about your application to LendUp                                                          1\n",
       "Yext - Software Engineering Internship Application (Conor Dewey)                                                1\n",
       "Important information about your application to PlayStation                                                     1\n",
       "Your application for Data Engineer Intern - Boston at Spotify.                                                  1\n",
       "Pandora Media, Inc.- Your application for Intern 2018 - Product\\r\\n Analytics                                   1\n",
       "Your application for Intern Data Scientist at ExtraHop Networks,\\r\\n Inc.                                       1\n",
       "b'Twitter Application Status'                                                                                   1\n",
       "Thank you for your interest in Visa                                                                             1\n",
       "Thank you from Thumbtack                                                                                        1\n",
       "UPDATE: Status of Your Application With Red Hat                                                                 1\n",
       "Thank you for your interest in Definitive Healthcare                                                            1\n",
       "Your Application for Intern, Big Data Developer                                                                 1\n",
       "Thank you for your interest in Datto                                                                            1\n",
       "Note from Addepar                                                                                               1\n",
       "Thank you for your application - Asana                                                                          1\n",
       "Regarding your application to Qualtrics                                                                         1\n",
       "Merck 2018 MRL Data Scientist Intern - Boston                                                                   1\n",
       "Your application for Data Engineer Intern - New York at Spotify.                                                1\n",
       "                                                                                                               ..\n",
       "Your application for Software Developer Intern - Seattle & San\\r\\n Francisco at Redfin                          1\n",
       "Your application to Airware: Data Science Intern - Fall                                                         1\n",
       "b'Bloomberg Application Follow-up'                                                                              1\n",
       "Thanks for your interest in Wish, Conor                                                                         1\n",
       "Conor Dewey - Medallia Application                                                                              1\n",
       "Your Application with Cambia Health Solutions                                                                   1\n",
       "Application for Software Developer - Intern or Fellow - Khan Academy                                            1\n",
       "McKinsey & Company                                                                                              1\n",
       "Thanks for your interest in TripAdvisor                                                                         1\n",
       "Update on Your Application for Interns@swissre 2018 - Data\\r\\n Scientist Intern                                 1\n",
       "Follow-up from Bazaarvoice                                                                                      1\n",
       "Your application for Data Science Intern at Infoblox                                                            1\n",
       "Thanks for your interest in Cogo Labs, Conor                                                                    1\n",
       "Thank You for Your Interest in Expedia                                                                          1\n",
       "Salesforce: Thank You!                                                                                          1\n",
       "Your application for Intern-Marketing Data Scientist at Palo Alto\\r\\n Networks                                  1\n",
       "Your BuzzFeed Application                                                                                       1\n",
       "Atlassian - 2018 Summer Software Developer Intern - Austin, TX Application                                      1\n",
       "Update on your application at Squarespace                                                                       1\n",
       "Your OpenAI application                                                                                         1\n",
       "2018 Summer League  Rookie Program Update                                                                       1\n",
       "Thank you from Workday!                                                                                         1\n",
       "Your application for Software Engineer (Intern) at Pinterest                                                    1\n",
       "An Update Regarding Your Visa Job Application                                                                   1\n",
       "Technology Undergraduate Internship-SRC-TECUI-Collegiate at Nike,\\r\\n Inc, including its affiliates             1\n",
       "Bazaarvoice - Data Analyst Intern                                                                               1\n",
       "CareDash Application                                                                                            1\n",
       "An update to your application at Informatica - 22468 - Software\\r\\n Engineering Intern                          1\n",
       "P&G                                                                                                             1\n",
       "Thank You - LiveRamp                                                                                            1\n",
       "Name: Subject, Length: 79, dtype: int64"
      ]
     },
     "execution_count": 4,
     "metadata": {},
     "output_type": "execute_result"
    }
   ],
   "source": [
    "# Subject list\n",
    "df['Subject'].value_counts()"
   ]
  },
  {
   "cell_type": "code",
   "execution_count": 5,
   "metadata": {},
   "outputs": [
    {
     "data": {
      "image/png": "[encoded data removed]",
      "text/plain": [
       "<Figure size 720x576 with 1 Axes>"
      ]
     },
     "metadata": {
      "needs_background": "light"
     },
     "output_type": "display_data"
    }
   ],
   "source": [
    "# Visualization\n",
    "plt.figure(figsize=(10,8))\n",
    "sns.countplot(df['Day'], order=['Mon', 'Tues', 'Weds', 'Thurs', 'Fri', 'Sat', 'Sun']);\n",
    "plt.xlabel('Day of the Week')\n",
    "plt.ylabel('Count');"
   ]
  },
  {
   "cell_type": "markdown",
   "metadata": {},
   "source": [
    "### Key Insights\n",
    "\n",
    "Rejections most frequently came on Wednesdays\n",
    "\n",
    "Thursdays also appear to be a popular day for bad news"
   ]
  },
  {
   "cell_type": "code",
   "execution_count": 6,
   "metadata": {},
   "outputs": [
    {
     "data": {
      "text/html": [
       "<div>\n",
       "<style scoped>\n",
       "    .dataframe tbody tr th:only-of-type {\n",
       "        vertical-align: middle;\n",
       "    }\n",
       "\n",
       "    .dataframe tbody tr th {\n",
       "        vertical-align: top;\n",
       "    }\n",
       "\n",
       "    .dataframe thead th {\n",
       "        text-align: right;\n",
       "    }\n",
       "</style>\n",
       "<table border=\"1\" class=\"dataframe\">\n",
       "  <thead>\n",
       "    <tr style=\"text-align: right;\">\n",
       "      <th></th>\n",
       "      <th>Date</th>\n",
       "      <th>Time</th>\n",
       "      <th>Day</th>\n",
       "      <th>Hour</th>\n",
       "      <th>Subject</th>\n",
       "      <th>Text</th>\n",
       "    </tr>\n",
       "  </thead>\n",
       "  <tbody>\n",
       "    <tr>\n",
       "      <th>46</th>\n",
       "      <td>2017-12-16 15:04:42</td>\n",
       "      <td>15:04:42</td>\n",
       "      <td>Sat</td>\n",
       "      <td>15</td>\n",
       "      <td>Important information about your application t...</td>\n",
       "      <td>Hi Conor,\\r\\nThank you for applying to Softwar...</td>\n",
       "    </tr>\n",
       "    <tr>\n",
       "      <th>63</th>\n",
       "      <td>2017-11-04 07:27:04</td>\n",
       "      <td>07:27:04</td>\n",
       "      <td>Sat</td>\n",
       "      <td>7</td>\n",
       "      <td>Thank you for your interest in TripAdvisor</td>\n",
       "      <td>Hi Conor,\\r\\n\\r\\nThank you for your interest i...</td>\n",
       "    </tr>\n",
       "    <tr>\n",
       "      <th>69</th>\n",
       "      <td>2017-09-30 13:02:53</td>\n",
       "      <td>13:02:53</td>\n",
       "      <td>Sat</td>\n",
       "      <td>13</td>\n",
       "      <td>Thank you for your interest</td>\n",
       "      <td>&lt;div&gt;&lt;img src=\"https://performancemanager4.suc...</td>\n",
       "    </tr>\n",
       "  </tbody>\n",
       "</table>\n",
       "</div>"
      ],
      "text/plain": [
       "                   Date      Time  Day  Hour  \\\n",
       "46  2017-12-16 15:04:42  15:04:42  Sat    15   \n",
       "63  2017-11-04 07:27:04  07:27:04  Sat     7   \n",
       "69  2017-09-30 13:02:53  13:02:53  Sat    13   \n",
       "\n",
       "                                              Subject  \\\n",
       "46  Important information about your application t...   \n",
       "63         Thank you for your interest in TripAdvisor   \n",
       "69                        Thank you for your interest   \n",
       "\n",
       "                                                 Text  \n",
       "46  Hi Conor,\\r\\nThank you for applying to Softwar...  \n",
       "63  Hi Conor,\\r\\n\\r\\nThank you for your interest i...  \n",
       "69  <div><img src=\"https://performancemanager4.suc...  "
      ]
     },
     "execution_count": 6,
     "metadata": {},
     "output_type": "execute_result"
    }
   ],
   "source": [
    "# Subset data\n",
    "sat = df.loc[df['Day'] == 'Sat']\n",
    "sat.head()"
   ]
  },
  {
   "cell_type": "code",
   "execution_count": 7,
   "metadata": {},
   "outputs": [
    {
     "name": "stdout",
     "output_type": "stream",
     "text": [
      "Important information about your application to LendUp\n",
      "Hi Conor,\r\n",
      "Thank you for applying to Software Engineering Intern. After reviewing with the team, we have decided not to move forward with your candidacy. Due to the number of applications we receive we are not able to provide specific feedback.\r\n",
      "\r\n",
      "We will keep your details on file and let you know if any suitable openings arise.\r\n",
      "\r\n",
      "Thanks again for your interest in LendUp and we wish you the best of luck in your search!\r\n",
      "\r\n",
      "Regards,\r\n",
      "LendUp Recruiting Team\n"
     ]
    }
   ],
   "source": [
    "# First offender: LendUp\n",
    "print(sat.iloc[0]['Subject'])\n",
    "print(sat.iloc[0]['Text'])"
   ]
  },
  {
   "cell_type": "markdown",
   "metadata": {},
   "source": [
    "## What time are job rejections most frequent "
   ]
  },
  {
   "cell_type": "code",
   "execution_count": 8,
   "metadata": {},
   "outputs": [
    {
     "data": {
      "image/png": "[encoded data removed]",
      "text/plain": [
       "<Figure size 720x576 with 1 Axes>"
      ]
     },
     "metadata": {
      "needs_background": "light"
     },
     "output_type": "display_data"
    }
   ],
   "source": [
    "# Visualization\n",
    "plt.figure(figsize=(10,8))\n",
    "sns.countplot(df['Hour'], order=np.arange(0,24));\n",
    "plt.xlabel('Hour of the Day (EST)')\n",
    "plt.ylabel('Count');"
   ]
  },
  {
   "cell_type": "markdown",
   "metadata": {},
   "source": [
    "## Who sent out the late Email ?"
   ]
  },
  {
   "cell_type": "code",
   "execution_count": 9,
   "metadata": {},
   "outputs": [
    {
     "data": {
      "text/html": [
       "<div>\n",
       "<style scoped>\n",
       "    .dataframe tbody tr th:only-of-type {\n",
       "        vertical-align: middle;\n",
       "    }\n",
       "\n",
       "    .dataframe tbody tr th {\n",
       "        vertical-align: top;\n",
       "    }\n",
       "\n",
       "    .dataframe thead th {\n",
       "        text-align: right;\n",
       "    }\n",
       "</style>\n",
       "<table border=\"1\" class=\"dataframe\">\n",
       "  <thead>\n",
       "    <tr style=\"text-align: right;\">\n",
       "      <th></th>\n",
       "      <th>Date</th>\n",
       "      <th>Time</th>\n",
       "      <th>Day</th>\n",
       "      <th>Hour</th>\n",
       "      <th>Subject</th>\n",
       "      <th>Text</th>\n",
       "    </tr>\n",
       "  </thead>\n",
       "  <tbody>\n",
       "    <tr>\n",
       "      <th>79</th>\n",
       "      <td>2017-09-21 22:08:37</td>\n",
       "      <td>22:08:37</td>\n",
       "      <td>Thurs</td>\n",
       "      <td>22</td>\n",
       "      <td>P&amp;G</td>\n",
       "      <td>&lt;!DOCTYPE HTML PUBLIC \"-//W3C//DTD HTML 4.01//...</td>\n",
       "    </tr>\n",
       "  </tbody>\n",
       "</table>\n",
       "</div>"
      ],
      "text/plain": [
       "                   Date      Time    Day  Hour Subject  \\\n",
       "79  2017-09-21 22:08:37  22:08:37  Thurs    22     P&G   \n",
       "\n",
       "                                                 Text  \n",
       "79  <!DOCTYPE HTML PUBLIC \"-//W3C//DTD HTML 4.01//...  "
      ]
     },
     "execution_count": 9,
     "metadata": {},
     "output_type": "execute_result"
    }
   ],
   "source": [
    "# Subset data\n",
    "late = df.loc[df['Hour'] == 22]\n",
    "late.head()"
   ]
  },
  {
   "cell_type": "markdown",
   "metadata": {},
   "source": [
    "##  Common Subject Words & Phrases"
   ]
  },
  {
   "cell_type": "code",
   "execution_count": 24,
   "metadata": {},
   "outputs": [],
   "source": [
    "# Tokenize and remove stop words\n",
    "subject_str = df['Subject'].to_string()\n",
    "words = nltk.word_tokenize(subject_str)\n",
    "clean = [word for word in words if word not in stopwords.words('english')]"
   ]
  },
  {
   "cell_type": "code",
   "execution_count": 25,
   "metadata": {},
   "outputs": [],
   "source": [
    "# Remove punctuation and numbers\n",
    "punctuation = re.compile(r'[-.?!,\":;()|0-9]')\n",
    "clean = [punctuation.sub(\"\", word) for word in clean]\n",
    "clean = [word.lower() for word in clean if len(word) > 0]"
   ]
  },
  {
   "cell_type": "code",
   "execution_count": 26,
   "metadata": {},
   "outputs": [],
   "source": [
    "# Get most common words\n",
    "words = [item[0] for item in Counter(clean).most_common(10)]\n",
    "counts = [item[1] for item in Counter(clean).most_common(10)]"
   ]
  },
  {
   "cell_type": "code",
   "execution_count": 27,
   "metadata": {},
   "outputs": [
    {
     "data": {
      "image/png": "[encoded data removed]",
      "text/plain": [
       "<Figure size 720x360 with 1 Axes>"
      ]
     },
     "metadata": {},
     "output_type": "display_data"
    }
   ],
   "source": [
    "# Visualization\n",
    "plt.figure(figsize=(10,5))\n",
    "sns.barplot(counts, words);\n",
    "plt.ylabel('');\n",
    "plt.xlabel('Number of Occurrences');"
   ]
  },
  {
   "cell_type": "markdown",
   "metadata": {},
   "source": [
    "## Common Body Words and Phrases"
   ]
  },
  {
   "cell_type": "code",
   "execution_count": 19,
   "metadata": {},
   "outputs": [],
   "source": [
    "# Tokenize and remove stop words\n",
    "subject_str = df['Text'].to_string()\n",
    "words = nltk.word_tokenize(subject_str)\n",
    "clean = [word for word in words if word not in stopwords.words('english')]"
   ]
  },
  {
   "cell_type": "code",
   "execution_count": 20,
   "metadata": {},
   "outputs": [],
   "source": [
    "# Remove punctuation and numbers\n",
    "punctuation = re.compile(r'[-.?!,\":;()<>//``//]|0-9]')\n",
    "clean = [punctuation.sub(\"\", word) for word in clean]\n",
    "clean = [word.lower() for word in clean if len(word) > 0]"
   ]
  },
  {
   "cell_type": "code",
   "execution_count": 21,
   "metadata": {},
   "outputs": [],
   "source": [
    "# Get most common words\n",
    "words = [item[0] for item in Counter(clean).most_common(10)]\n",
    "counts = [item[1] for item in Counter(clean).most_common(10)]"
   ]
  },
  {
   "cell_type": "code",
   "execution_count": 22,
   "metadata": {},
   "outputs": [
    {
     "data": {
      "image/png": "[encoded data removed]",
      "text/plain": [
       "<Figure size 720x360 with 1 Axes>"
      ]
     },
     "metadata": {},
     "output_type": "display_data"
    }
   ],
   "source": [
    "# Visualization\n",
    "plt.figure(figsize=(10,5))\n",
    "sns.barplot(counts, words);\n",
    "plt.ylabel('');\n",
    "plt.xlabel('Number of Occurrences');"
   ]
  },
  {
   "cell_type": "code",
   "execution_count": null,
   "metadata": {},
   "outputs": [],
   "source": []
  }
 ],
 "metadata": {
  "kernelspec": {
   "display_name": "Python 3",
   "language": "python",
   "name": "python3"
  },
  "language_info": {
   "codemirror_mode": {
    "name": "ipython",
    "version": 3
   },
   "file_extension": ".py",
   "mimetype": "text/x-python",
   "name": "python",
   "nbconvert_exporter": "python",
   "pygments_lexer": "ipython3",
   "version": "3.7.3"
  }
 },
 "nbformat": 4,
 "nbformat_minor": 2
}
